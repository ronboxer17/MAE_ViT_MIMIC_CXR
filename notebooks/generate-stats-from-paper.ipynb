{
 "cells": [
  {
   "cell_type": "code",
   "execution_count": 1,
   "metadata": {
    "pycharm": {
     "name": "#%%\n"
    },
    "ExecuteTime": {
     "end_time": "2023-07-29T09:35:45.439669Z",
     "start_time": "2023-07-29T09:35:20.578059Z"
    }
   },
   "outputs": [],
   "source": [
    "from pathlib import Path\n",
    "import pandas as pd"
   ]
  },
  {
   "cell_type": "code",
   "execution_count": 4,
   "metadata": {
    "ExecuteTime": {
     "end_time": "2023-07-29T09:36:16.107340Z",
     "start_time": "2023-07-29T09:36:16.071945Z"
    }
   },
   "outputs": [],
   "source": [
    "from mae_mimic.config import METADATA_PATH, SPLIT_PATH, NEGIBOX_PATH, CHEXPERT_PATH, DATA_PATH"
   ]
  },
  {
   "cell_type": "markdown",
   "metadata": {
    "pycharm": {
     "name": "#%% md\n"
    }
   },
   "source": [
    "# Dataset stats"
   ]
  },
  {
   "cell_type": "code",
   "execution_count": 5,
   "metadata": {
    "pycharm": {
     "name": "#%%\n"
    },
    "ExecuteTime": {
     "end_time": "2023-07-29T09:36:18.685421Z",
     "start_time": "2023-07-29T09:36:17.407056Z"
    }
   },
   "outputs": [
    {
     "name": "stdout",
     "output_type": "stream",
     "text": [
      "377110 DICOMs in MIMIC-CXR v2.0.0.\n",
      "  227835 studies.\n",
      "  65379 subjects.\n"
     ]
    }
   ],
   "source": [
    "# load in mapping file\n",
    "df = pd.read_csv(METADATA_PATH, header=0, sep=',')\n",
    "\n",
    "n = df.shape[0]\n",
    "print(f'{n} DICOMs in MIMIC-CXR v2.0.0.')\n",
    "\n",
    "n = df['study_id'].nunique()\n",
    "print(f'  {n} studies.')\n",
    "\n",
    "n = df['subject_id'].nunique()\n",
    "print(f'  {n} subjects.')\n",
    "\n",
    "dicoms = set(df['dicom_id'].tolist())"
   ]
  },
  {
   "cell_type": "markdown",
   "metadata": {
    "pycharm": {
     "name": "#%% md\n"
    }
   },
   "source": [
    "# Load dataframes"
   ]
  },
  {
   "cell_type": "code",
   "execution_count": 6,
   "metadata": {
    "pycharm": {
     "name": "#%%\n"
    },
    "ExecuteTime": {
     "end_time": "2023-07-29T09:36:22.030947Z",
     "start_time": "2023-07-29T09:36:20.438440Z"
    }
   },
   "outputs": [],
   "source": [
    "df_split = pd.read_csv(SPLIT_PATH)\n",
    "df_metadata = pd.read_csv(METADATA_PATH)"
   ]
  },
  {
   "cell_type": "markdown",
   "metadata": {
    "pycharm": {
     "name": "#%% md\n"
    }
   },
   "source": [
    "## Generate view"
   ]
  },
  {
   "cell_type": "code",
   "execution_count": 7,
   "metadata": {
    "pycharm": {
     "name": "#%%\n"
    },
    "ExecuteTime": {
     "end_time": "2023-07-29T09:39:17.828769Z",
     "start_time": "2023-07-29T09:39:17.807801Z"
    }
   },
   "outputs": [],
   "source": [
    "# initialize view with a mapping from ViewPosition\n",
    "VIEW_MAP = {\n",
    "    'AP': 'frontal',\n",
    "    'PA': 'frontal',\n",
    "    'LATERAL': 'lateral',\n",
    "    'LL': 'lateral',\n",
    "    'LPO': 'other',\n",
    "    'RAO': 'other',\n",
    "    'RPO': 'other',\n",
    "    'LAO': 'other',\n",
    "    # the below are overwritten in some instances by manual review\n",
    "    'AP AXIAL': 'other',\n",
    "    'XTABLE LATERAL': 'other',\n",
    "    'AP LLD': 'other',\n",
    "    'PA LLD': 'other',\n",
    "    'L5 S1': 'other',\n",
    "    'SWIMMERS': 'other',\n",
    "    'AP RLD': 'other',\n",
    "    'PA RLD': 'other',\n",
    "}\n",
    "\n",
    "df_metadata['view'] = df_metadata['ViewPosition'].map(VIEW_MAP)"
   ]
  },
  {
   "cell_type": "markdown",
   "metadata": {
    "pycharm": {
     "name": "#%% md\n"
    }
   },
   "source": [
    "# Merge dataframes"
   ]
  },
  {
   "cell_type": "code",
   "execution_count": 8,
   "metadata": {
    "pycharm": {
     "name": "#%%\n"
    },
    "ExecuteTime": {
     "end_time": "2023-07-29T09:39:20.159203Z",
     "start_time": "2023-07-29T09:39:19.212748Z"
    }
   },
   "outputs": [
    {
     "data": {
      "text/plain": "                                                                      0   \\\ndicom_id                    02aa804e-bde0afdd-112c0b34-7bc16630-4e384014   \nsplit                                                              train   \nview                                                             frontal   \nAtelectasis                                                          NaN   \nCardiomegaly                                                         NaN   \nConsolidation                                                        NaN   \nEdema                                                                NaN   \nEnlarged Cardiomediastinum                                           NaN   \nFracture                                                             NaN   \nLung Lesion                                                          NaN   \nLung Opacity                                                         NaN   \nNo Finding                                                           1.0   \nPleural Effusion                                                     NaN   \nPleural Other                                                        NaN   \nPneumonia                                                            NaN   \nPneumothorax                                                         NaN   \nSupport Devices                                                      NaN   \n\n                                                                      1   \\\ndicom_id                    174413ec-4ec4c1f7-34ea26b7-c5f994f8-79ef1962   \nsplit                                                              train   \nview                                                             lateral   \nAtelectasis                                                          NaN   \nCardiomegaly                                                         NaN   \nConsolidation                                                        NaN   \nEdema                                                                NaN   \nEnlarged Cardiomediastinum                                           NaN   \nFracture                                                             NaN   \nLung Lesion                                                          NaN   \nLung Opacity                                                         NaN   \nNo Finding                                                           1.0   \nPleural Effusion                                                     NaN   \nPleural Other                                                        NaN   \nPneumonia                                                            NaN   \nPneumothorax                                                         NaN   \nSupport Devices                                                      NaN   \n\n                                                                      2   \\\ndicom_id                    2a2277a9-b0ded155-c0de8eb9-c124d10e-82c5caab   \nsplit                                                              train   \nview                                                             frontal   \nAtelectasis                                                          NaN   \nCardiomegaly                                                         NaN   \nConsolidation                                                        NaN   \nEdema                                                                NaN   \nEnlarged Cardiomediastinum                                           NaN   \nFracture                                                             NaN   \nLung Lesion                                                          NaN   \nLung Opacity                                                         NaN   \nNo Finding                                                           1.0   \nPleural Effusion                                                     NaN   \nPleural Other                                                        NaN   \nPneumonia                                                            NaN   \nPneumothorax                                                         NaN   \nSupport Devices                                                      NaN   \n\n                                                                      3   \\\ndicom_id                    e084de3b-be89b11e-20fe3f9f-9c8d8dfe-4cfd202c   \nsplit                                                              train   \nview                                                             lateral   \nAtelectasis                                                          NaN   \nCardiomegaly                                                         NaN   \nConsolidation                                                        NaN   \nEdema                                                                NaN   \nEnlarged Cardiomediastinum                                           NaN   \nFracture                                                             NaN   \nLung Lesion                                                          NaN   \nLung Opacity                                                         NaN   \nNo Finding                                                           1.0   \nPleural Effusion                                                     NaN   \nPleural Other                                                        NaN   \nPneumonia                                                            NaN   \nPneumothorax                                                         NaN   \nSupport Devices                                                      NaN   \n\n                                                                      4   \\\ndicom_id                    68b5c4b1-227d0485-9cc38c3f-7b84ab51-4b472714   \nsplit                                                              train   \nview                                                             frontal   \nAtelectasis                                                          NaN   \nCardiomegaly                                                         NaN   \nConsolidation                                                        NaN   \nEdema                                                                NaN   \nEnlarged Cardiomediastinum                                           NaN   \nFracture                                                             NaN   \nLung Lesion                                                          NaN   \nLung Opacity                                                         NaN   \nNo Finding                                                           1.0   \nPleural Effusion                                                     NaN   \nPleural Other                                                        NaN   \nPneumonia                                                            NaN   \nPneumothorax                                                         NaN   \nSupport Devices                                                      NaN   \n\n                                                                      5   \\\ndicom_id                    fffabebf-74fd3a1f-673b6b41-96ec0ac9-2ab69818   \nsplit                                                              train   \nview                                                             frontal   \nAtelectasis                                                          NaN   \nCardiomegaly                                                         NaN   \nConsolidation                                                        NaN   \nEdema                                                                NaN   \nEnlarged Cardiomediastinum                                           NaN   \nFracture                                                             NaN   \nLung Lesion                                                          NaN   \nLung Opacity                                                         NaN   \nNo Finding                                                           1.0   \nPleural Effusion                                                     NaN   \nPleural Other                                                        NaN   \nPneumonia                                                            NaN   \nPneumothorax                                                         NaN   \nSupport Devices                                                      NaN   \n\n                                                                      6   \\\ndicom_id                    ea030e7a-2e3b1346-bc518786-7a8fd698-f673b44c   \nsplit                                                              train   \nview                                                             frontal   \nAtelectasis                                                          NaN   \nCardiomegaly                                                         NaN   \nConsolidation                                                        NaN   \nEdema                                                                NaN   \nEnlarged Cardiomediastinum                                           NaN   \nFracture                                                             NaN   \nLung Lesion                                                          NaN   \nLung Opacity                                                         NaN   \nNo Finding                                                           1.0   \nPleural Effusion                                                     NaN   \nPleural Other                                                        NaN   \nPneumonia                                                            NaN   \nPneumothorax                                                         NaN   \nSupport Devices                                                      NaN   \n\n                                                                      7   \\\ndicom_id                    096052b7-d256dc40-453a102b-fa7d01c6-1b22c6b4   \nsplit                                                              train   \nview                                                             frontal   \nAtelectasis                                                          NaN   \nCardiomegaly                                                         NaN   \nConsolidation                                                        1.0   \nEdema                                                                NaN   \nEnlarged Cardiomediastinum                                           NaN   \nFracture                                                             NaN   \nLung Lesion                                                          NaN   \nLung Opacity                                                         NaN   \nNo Finding                                                           NaN   \nPleural Effusion                                                     NaN   \nPleural Other                                                        NaN   \nPneumonia                                                           -1.0   \nPneumothorax                                                         NaN   \nSupport Devices                                                      NaN   \n\n                                                                      8   \\\ndicom_id                    b79e55c3-735ce5ac-64412506-cdc9ea79-f1af521f   \nsplit                                                              train   \nview                                                             lateral   \nAtelectasis                                                          NaN   \nCardiomegaly                                                         NaN   \nConsolidation                                                        1.0   \nEdema                                                                NaN   \nEnlarged Cardiomediastinum                                           NaN   \nFracture                                                             NaN   \nLung Lesion                                                          NaN   \nLung Opacity                                                         NaN   \nNo Finding                                                           NaN   \nPleural Effusion                                                     NaN   \nPleural Other                                                        NaN   \nPneumonia                                                           -1.0   \nPneumothorax                                                         NaN   \nSupport Devices                                                      NaN   \n\n                                                                      9   \\\ndicom_id                    dcfeeac4-1597e318-d0e6736a-8b2c2238-47ac3f1b   \nsplit                                                              train   \nview                                                             lateral   \nAtelectasis                                                          NaN   \nCardiomegaly                                                         NaN   \nConsolidation                                                        1.0   \nEdema                                                                NaN   \nEnlarged Cardiomediastinum                                           NaN   \nFracture                                                             NaN   \nLung Lesion                                                          NaN   \nLung Opacity                                                         NaN   \nNo Finding                                                           NaN   \nPleural Effusion                                                     NaN   \nPleural Other                                                        NaN   \nPneumonia                                                           -1.0   \nPneumothorax                                                         NaN   \nSupport Devices                                                      NaN   \n\n                                                                      10  \\\ndicom_id                    0c4eb1e1-b801903c-bcebe8a4-3da9cd3c-3b94a27c   \nsplit                                                              train   \nview                                                             lateral   \nAtelectasis                                                          NaN   \nCardiomegaly                                                         NaN   \nConsolidation                                                        NaN   \nEdema                                                                NaN   \nEnlarged Cardiomediastinum                                           NaN   \nFracture                                                             NaN   \nLung Lesion                                                          NaN   \nLung Opacity                                                         NaN   \nNo Finding                                                           1.0   \nPleural Effusion                                                     NaN   \nPleural Other                                                        NaN   \nPneumonia                                                            NaN   \nPneumothorax                                                         NaN   \nSupport Devices                                                      NaN   \n\n                                                                      11  \\\ndicom_id                    2a280266-c8bae121-54d75383-cac046f4-ca37aa16   \nsplit                                                              train   \nview                                                             frontal   \nAtelectasis                                                          NaN   \nCardiomegaly                                                         NaN   \nConsolidation                                                        NaN   \nEdema                                                                NaN   \nEnlarged Cardiomediastinum                                           NaN   \nFracture                                                             NaN   \nLung Lesion                                                          NaN   \nLung Opacity                                                         NaN   \nNo Finding                                                           1.0   \nPleural Effusion                                                     NaN   \nPleural Other                                                        NaN   \nPneumonia                                                            NaN   \nPneumothorax                                                         NaN   \nSupport Devices                                                      NaN   \n\n                                                                      12  \\\ndicom_id                    8959e402-2175d68d-edba5a6c-baab51c3-9359f700   \nsplit                                                              train   \nview                                                             lateral   \nAtelectasis                                                          NaN   \nCardiomegaly                                                         NaN   \nConsolidation                                                        NaN   \nEdema                                                                NaN   \nEnlarged Cardiomediastinum                                           NaN   \nFracture                                                             NaN   \nLung Lesion                                                          NaN   \nLung Opacity                                                         NaN   \nNo Finding                                                           1.0   \nPleural Effusion                                                     NaN   \nPleural Other                                                        NaN   \nPneumonia                                                            NaN   \nPneumothorax                                                         NaN   \nSupport Devices                                                      NaN   \n\n                                                                      13  \\\ndicom_id                    9e7a6aae-2580e589-6212d336-9813ebbd-a9239a34   \nsplit                                                              train   \nview                                                             lateral   \nAtelectasis                                                          NaN   \nCardiomegaly                                                         NaN   \nConsolidation                                                        NaN   \nEdema                                                                NaN   \nEnlarged Cardiomediastinum                                           NaN   \nFracture                                                             NaN   \nLung Lesion                                                          NaN   \nLung Opacity                                                         NaN   \nNo Finding                                                           1.0   \nPleural Effusion                                                     NaN   \nPleural Other                                                        NaN   \nPneumonia                                                            NaN   \nPneumothorax                                                         NaN   \nSupport Devices                                                      NaN   \n\n                                                                      14  \\\ndicom_id                    b75df1bd-0f22d631-52d73526-2ae7b85a-d843b39d   \nsplit                                                              train   \nview                                                             frontal   \nAtelectasis                                                          NaN   \nCardiomegaly                                                         NaN   \nConsolidation                                                        NaN   \nEdema                                                                NaN   \nEnlarged Cardiomediastinum                                           NaN   \nFracture                                                             NaN   \nLung Lesion                                                          NaN   \nLung Opacity                                                         NaN   \nNo Finding                                                           1.0   \nPleural Effusion                                                     NaN   \nPleural Other                                                        NaN   \nPneumonia                                                            NaN   \nPneumothorax                                                         NaN   \nSupport Devices                                                      NaN   \n\n                                                                      15  \ndicom_id                    d0b71acc-b5a62046-bbb5f6b8-7b173b85-65cdf738  \nsplit                                                              train  \nview                                                             frontal  \nAtelectasis                                                          NaN  \nCardiomegaly                                                         NaN  \nConsolidation                                                        NaN  \nEdema                                                               -1.0  \nEnlarged Cardiomediastinum                                           NaN  \nFracture                                                             NaN  \nLung Lesion                                                          NaN  \nLung Opacity                                                         0.0  \nNo Finding                                                           NaN  \nPleural Effusion                                                     1.0  \nPleural Other                                                        NaN  \nPneumonia                                                            1.0  \nPneumothorax                                                         NaN  \nSupport Devices                                                      NaN  ",
      "text/html": "<div>\n<style scoped>\n    .dataframe tbody tr th:only-of-type {\n        vertical-align: middle;\n    }\n\n    .dataframe tbody tr th {\n        vertical-align: top;\n    }\n\n    .dataframe thead th {\n        text-align: right;\n    }\n</style>\n<table border=\"1\" class=\"dataframe\">\n  <thead>\n    <tr style=\"text-align: right;\">\n      <th></th>\n      <th>0</th>\n      <th>1</th>\n      <th>2</th>\n      <th>3</th>\n      <th>4</th>\n      <th>5</th>\n      <th>6</th>\n      <th>7</th>\n      <th>8</th>\n      <th>9</th>\n      <th>10</th>\n      <th>11</th>\n      <th>12</th>\n      <th>13</th>\n      <th>14</th>\n      <th>15</th>\n    </tr>\n  </thead>\n  <tbody>\n    <tr>\n      <th>dicom_id</th>\n      <td>02aa804e-bde0afdd-112c0b34-7bc16630-4e384014</td>\n      <td>174413ec-4ec4c1f7-34ea26b7-c5f994f8-79ef1962</td>\n      <td>2a2277a9-b0ded155-c0de8eb9-c124d10e-82c5caab</td>\n      <td>e084de3b-be89b11e-20fe3f9f-9c8d8dfe-4cfd202c</td>\n      <td>68b5c4b1-227d0485-9cc38c3f-7b84ab51-4b472714</td>\n      <td>fffabebf-74fd3a1f-673b6b41-96ec0ac9-2ab69818</td>\n      <td>ea030e7a-2e3b1346-bc518786-7a8fd698-f673b44c</td>\n      <td>096052b7-d256dc40-453a102b-fa7d01c6-1b22c6b4</td>\n      <td>b79e55c3-735ce5ac-64412506-cdc9ea79-f1af521f</td>\n      <td>dcfeeac4-1597e318-d0e6736a-8b2c2238-47ac3f1b</td>\n      <td>0c4eb1e1-b801903c-bcebe8a4-3da9cd3c-3b94a27c</td>\n      <td>2a280266-c8bae121-54d75383-cac046f4-ca37aa16</td>\n      <td>8959e402-2175d68d-edba5a6c-baab51c3-9359f700</td>\n      <td>9e7a6aae-2580e589-6212d336-9813ebbd-a9239a34</td>\n      <td>b75df1bd-0f22d631-52d73526-2ae7b85a-d843b39d</td>\n      <td>d0b71acc-b5a62046-bbb5f6b8-7b173b85-65cdf738</td>\n    </tr>\n    <tr>\n      <th>split</th>\n      <td>train</td>\n      <td>train</td>\n      <td>train</td>\n      <td>train</td>\n      <td>train</td>\n      <td>train</td>\n      <td>train</td>\n      <td>train</td>\n      <td>train</td>\n      <td>train</td>\n      <td>train</td>\n      <td>train</td>\n      <td>train</td>\n      <td>train</td>\n      <td>train</td>\n      <td>train</td>\n    </tr>\n    <tr>\n      <th>view</th>\n      <td>frontal</td>\n      <td>lateral</td>\n      <td>frontal</td>\n      <td>lateral</td>\n      <td>frontal</td>\n      <td>frontal</td>\n      <td>frontal</td>\n      <td>frontal</td>\n      <td>lateral</td>\n      <td>lateral</td>\n      <td>lateral</td>\n      <td>frontal</td>\n      <td>lateral</td>\n      <td>lateral</td>\n      <td>frontal</td>\n      <td>frontal</td>\n    </tr>\n    <tr>\n      <th>Atelectasis</th>\n      <td>NaN</td>\n      <td>NaN</td>\n      <td>NaN</td>\n      <td>NaN</td>\n      <td>NaN</td>\n      <td>NaN</td>\n      <td>NaN</td>\n      <td>NaN</td>\n      <td>NaN</td>\n      <td>NaN</td>\n      <td>NaN</td>\n      <td>NaN</td>\n      <td>NaN</td>\n      <td>NaN</td>\n      <td>NaN</td>\n      <td>NaN</td>\n    </tr>\n    <tr>\n      <th>Cardiomegaly</th>\n      <td>NaN</td>\n      <td>NaN</td>\n      <td>NaN</td>\n      <td>NaN</td>\n      <td>NaN</td>\n      <td>NaN</td>\n      <td>NaN</td>\n      <td>NaN</td>\n      <td>NaN</td>\n      <td>NaN</td>\n      <td>NaN</td>\n      <td>NaN</td>\n      <td>NaN</td>\n      <td>NaN</td>\n      <td>NaN</td>\n      <td>NaN</td>\n    </tr>\n    <tr>\n      <th>Consolidation</th>\n      <td>NaN</td>\n      <td>NaN</td>\n      <td>NaN</td>\n      <td>NaN</td>\n      <td>NaN</td>\n      <td>NaN</td>\n      <td>NaN</td>\n      <td>1.0</td>\n      <td>1.0</td>\n      <td>1.0</td>\n      <td>NaN</td>\n      <td>NaN</td>\n      <td>NaN</td>\n      <td>NaN</td>\n      <td>NaN</td>\n      <td>NaN</td>\n    </tr>\n    <tr>\n      <th>Edema</th>\n      <td>NaN</td>\n      <td>NaN</td>\n      <td>NaN</td>\n      <td>NaN</td>\n      <td>NaN</td>\n      <td>NaN</td>\n      <td>NaN</td>\n      <td>NaN</td>\n      <td>NaN</td>\n      <td>NaN</td>\n      <td>NaN</td>\n      <td>NaN</td>\n      <td>NaN</td>\n      <td>NaN</td>\n      <td>NaN</td>\n      <td>-1.0</td>\n    </tr>\n    <tr>\n      <th>Enlarged Cardiomediastinum</th>\n      <td>NaN</td>\n      <td>NaN</td>\n      <td>NaN</td>\n      <td>NaN</td>\n      <td>NaN</td>\n      <td>NaN</td>\n      <td>NaN</td>\n      <td>NaN</td>\n      <td>NaN</td>\n      <td>NaN</td>\n      <td>NaN</td>\n      <td>NaN</td>\n      <td>NaN</td>\n      <td>NaN</td>\n      <td>NaN</td>\n      <td>NaN</td>\n    </tr>\n    <tr>\n      <th>Fracture</th>\n      <td>NaN</td>\n      <td>NaN</td>\n      <td>NaN</td>\n      <td>NaN</td>\n      <td>NaN</td>\n      <td>NaN</td>\n      <td>NaN</td>\n      <td>NaN</td>\n      <td>NaN</td>\n      <td>NaN</td>\n      <td>NaN</td>\n      <td>NaN</td>\n      <td>NaN</td>\n      <td>NaN</td>\n      <td>NaN</td>\n      <td>NaN</td>\n    </tr>\n    <tr>\n      <th>Lung Lesion</th>\n      <td>NaN</td>\n      <td>NaN</td>\n      <td>NaN</td>\n      <td>NaN</td>\n      <td>NaN</td>\n      <td>NaN</td>\n      <td>NaN</td>\n      <td>NaN</td>\n      <td>NaN</td>\n      <td>NaN</td>\n      <td>NaN</td>\n      <td>NaN</td>\n      <td>NaN</td>\n      <td>NaN</td>\n      <td>NaN</td>\n      <td>NaN</td>\n    </tr>\n    <tr>\n      <th>Lung Opacity</th>\n      <td>NaN</td>\n      <td>NaN</td>\n      <td>NaN</td>\n      <td>NaN</td>\n      <td>NaN</td>\n      <td>NaN</td>\n      <td>NaN</td>\n      <td>NaN</td>\n      <td>NaN</td>\n      <td>NaN</td>\n      <td>NaN</td>\n      <td>NaN</td>\n      <td>NaN</td>\n      <td>NaN</td>\n      <td>NaN</td>\n      <td>0.0</td>\n    </tr>\n    <tr>\n      <th>No Finding</th>\n      <td>1.0</td>\n      <td>1.0</td>\n      <td>1.0</td>\n      <td>1.0</td>\n      <td>1.0</td>\n      <td>1.0</td>\n      <td>1.0</td>\n      <td>NaN</td>\n      <td>NaN</td>\n      <td>NaN</td>\n      <td>1.0</td>\n      <td>1.0</td>\n      <td>1.0</td>\n      <td>1.0</td>\n      <td>1.0</td>\n      <td>NaN</td>\n    </tr>\n    <tr>\n      <th>Pleural Effusion</th>\n      <td>NaN</td>\n      <td>NaN</td>\n      <td>NaN</td>\n      <td>NaN</td>\n      <td>NaN</td>\n      <td>NaN</td>\n      <td>NaN</td>\n      <td>NaN</td>\n      <td>NaN</td>\n      <td>NaN</td>\n      <td>NaN</td>\n      <td>NaN</td>\n      <td>NaN</td>\n      <td>NaN</td>\n      <td>NaN</td>\n      <td>1.0</td>\n    </tr>\n    <tr>\n      <th>Pleural Other</th>\n      <td>NaN</td>\n      <td>NaN</td>\n      <td>NaN</td>\n      <td>NaN</td>\n      <td>NaN</td>\n      <td>NaN</td>\n      <td>NaN</td>\n      <td>NaN</td>\n      <td>NaN</td>\n      <td>NaN</td>\n      <td>NaN</td>\n      <td>NaN</td>\n      <td>NaN</td>\n      <td>NaN</td>\n      <td>NaN</td>\n      <td>NaN</td>\n    </tr>\n    <tr>\n      <th>Pneumonia</th>\n      <td>NaN</td>\n      <td>NaN</td>\n      <td>NaN</td>\n      <td>NaN</td>\n      <td>NaN</td>\n      <td>NaN</td>\n      <td>NaN</td>\n      <td>-1.0</td>\n      <td>-1.0</td>\n      <td>-1.0</td>\n      <td>NaN</td>\n      <td>NaN</td>\n      <td>NaN</td>\n      <td>NaN</td>\n      <td>NaN</td>\n      <td>1.0</td>\n    </tr>\n    <tr>\n      <th>Pneumothorax</th>\n      <td>NaN</td>\n      <td>NaN</td>\n      <td>NaN</td>\n      <td>NaN</td>\n      <td>NaN</td>\n      <td>NaN</td>\n      <td>NaN</td>\n      <td>NaN</td>\n      <td>NaN</td>\n      <td>NaN</td>\n      <td>NaN</td>\n      <td>NaN</td>\n      <td>NaN</td>\n      <td>NaN</td>\n      <td>NaN</td>\n      <td>NaN</td>\n    </tr>\n    <tr>\n      <th>Support Devices</th>\n      <td>NaN</td>\n      <td>NaN</td>\n      <td>NaN</td>\n      <td>NaN</td>\n      <td>NaN</td>\n      <td>NaN</td>\n      <td>NaN</td>\n      <td>NaN</td>\n      <td>NaN</td>\n      <td>NaN</td>\n      <td>NaN</td>\n      <td>NaN</td>\n      <td>NaN</td>\n      <td>NaN</td>\n      <td>NaN</td>\n      <td>NaN</td>\n    </tr>\n  </tbody>\n</table>\n</div>"
     },
     "execution_count": 8,
     "metadata": {},
     "output_type": "execute_result"
    }
   ],
   "source": [
    "df = df_split.merge(df_metadata.drop(['study_id', 'subject_id'], axis=1),\n",
    "                   on='dicom_id', how='inner')\n",
    "\n",
    "\n",
    "nb = pd.read_csv(NEGIBOX_PATH)\n",
    "# avoid redundant columns\n",
    "nb.drop('subject_id', axis=1, inplace=True)\n",
    "findings = [x for x in nb.columns if x != 'study_id']\n",
    "df = df.merge(nb, how='left', on='study_id')\n",
    "\n",
    "# indicator flag for the study having a NegBio finding\n",
    "df['has_negbio_finding'] = df[[x for x in findings if x != 'No Finding']].notnull().sum(axis=1) > 0\n",
    "\n",
    "df[['dicom_id', 'split', 'view'] + findings].head(n=16).T"
   ]
  },
  {
   "cell_type": "markdown",
   "metadata": {
    "pycharm": {
     "name": "#%% md\n"
    }
   },
   "source": [
    "# Frequency of findings"
   ]
  },
  {
   "cell_type": "code",
   "execution_count": 9,
   "metadata": {
    "pycharm": {
     "name": "#%%\n"
    },
    "scrolled": false,
    "ExecuteTime": {
     "end_time": "2023-07-29T09:39:23.752299Z",
     "start_time": "2023-07-29T09:39:21.209949Z"
    }
   },
   "outputs": [
    {
     "name": "stdout",
     "output_type": "stream",
     "text": [
      "Frequency of labels in MIMIC-CXR-JPG on the training subset of 222,750 unique radiologic studies.\n"
     ]
    },
    {
     "data": {
      "text/plain": "                                  Positive          Negative        Uncertain  \\\nAtelectasis                 44,012 (19.8%)      921.0 (0.4%)   9,623.0 (4.3%)   \nCardiomegaly                38,002 (17.1%)   15,563.0 (7.0%)   5,753.0 (2.6%)   \nConsolidation                10,199 (4.6%)    7,791.0 (3.5%)   2,913.0 (1.3%)   \nEdema                       25,549 (11.5%)  24,746.0 (11.1%)  11,426.0 (5.1%)   \nEnlarged Cardiomediastinum    6,798 (3.1%)    5,158.0 (2.3%)   9,015.0 (4.0%)   \nFracture                      3,675 (1.6%)      871.0 (0.4%)     295.0 (0.1%)   \nLung Lesion                   5,939 (2.7%)      822.0 (0.4%)     996.0 (0.4%)   \nLung Opacity                49,512 (22.2%)    2,794.0 (1.3%)   2,052.0 (0.9%)   \nNo Finding                  74,019 (33.2%)        nan (nan%)       nan (nan%)   \nPleural Effusion            51,680 (23.2%)  26,532.0 (11.9%)   5,184.0 (2.3%)   \nPleural Other                 1,884 (0.8%)      120.0 (0.1%)     707.0 (0.3%)   \nPneumonia                    15,333 (6.9%)  23,771.0 (10.7%)  17,313.0 (7.8%)   \nPneumothorax                  9,159 (4.1%)  41,250.0 (18.5%)     848.0 (0.4%)   \nSupport Devices             63,971 (28.7%)    3,014.0 (1.4%)      95.0 (0.0%)   \n\n                            Disagreement  \nAtelectasis                 1,705 (0.8%)  \nCardiomegaly                5,769 (2.6%)  \nConsolidation               1,576 (0.7%)  \nEdema                       2,282 (1.0%)  \nEnlarged Cardiomediastinum    248 (0.1%)  \nFracture                      867 (0.4%)  \nLung Lesion                   289 (0.1%)  \nLung Opacity                2,460 (1.1%)  \nNo Finding                  3,825 (1.7%)  \nPleural Effusion            1,617 (0.7%)  \nPleural Other                  91 (0.0%)  \nPneumonia                   1,377 (0.6%)  \nPneumothorax                1,291 (0.6%)  \nSupport Devices             1,785 (0.8%)  ",
      "text/html": "<div>\n<style scoped>\n    .dataframe tbody tr th:only-of-type {\n        vertical-align: middle;\n    }\n\n    .dataframe tbody tr th {\n        vertical-align: top;\n    }\n\n    .dataframe thead th {\n        text-align: right;\n    }\n</style>\n<table border=\"1\" class=\"dataframe\">\n  <thead>\n    <tr style=\"text-align: right;\">\n      <th></th>\n      <th>Positive</th>\n      <th>Negative</th>\n      <th>Uncertain</th>\n      <th>Disagreement</th>\n    </tr>\n  </thead>\n  <tbody>\n    <tr>\n      <th>Atelectasis</th>\n      <td>44,012 (19.8%)</td>\n      <td>921.0 (0.4%)</td>\n      <td>9,623.0 (4.3%)</td>\n      <td>1,705 (0.8%)</td>\n    </tr>\n    <tr>\n      <th>Cardiomegaly</th>\n      <td>38,002 (17.1%)</td>\n      <td>15,563.0 (7.0%)</td>\n      <td>5,753.0 (2.6%)</td>\n      <td>5,769 (2.6%)</td>\n    </tr>\n    <tr>\n      <th>Consolidation</th>\n      <td>10,199 (4.6%)</td>\n      <td>7,791.0 (3.5%)</td>\n      <td>2,913.0 (1.3%)</td>\n      <td>1,576 (0.7%)</td>\n    </tr>\n    <tr>\n      <th>Edema</th>\n      <td>25,549 (11.5%)</td>\n      <td>24,746.0 (11.1%)</td>\n      <td>11,426.0 (5.1%)</td>\n      <td>2,282 (1.0%)</td>\n    </tr>\n    <tr>\n      <th>Enlarged Cardiomediastinum</th>\n      <td>6,798 (3.1%)</td>\n      <td>5,158.0 (2.3%)</td>\n      <td>9,015.0 (4.0%)</td>\n      <td>248 (0.1%)</td>\n    </tr>\n    <tr>\n      <th>Fracture</th>\n      <td>3,675 (1.6%)</td>\n      <td>871.0 (0.4%)</td>\n      <td>295.0 (0.1%)</td>\n      <td>867 (0.4%)</td>\n    </tr>\n    <tr>\n      <th>Lung Lesion</th>\n      <td>5,939 (2.7%)</td>\n      <td>822.0 (0.4%)</td>\n      <td>996.0 (0.4%)</td>\n      <td>289 (0.1%)</td>\n    </tr>\n    <tr>\n      <th>Lung Opacity</th>\n      <td>49,512 (22.2%)</td>\n      <td>2,794.0 (1.3%)</td>\n      <td>2,052.0 (0.9%)</td>\n      <td>2,460 (1.1%)</td>\n    </tr>\n    <tr>\n      <th>No Finding</th>\n      <td>74,019 (33.2%)</td>\n      <td>nan (nan%)</td>\n      <td>nan (nan%)</td>\n      <td>3,825 (1.7%)</td>\n    </tr>\n    <tr>\n      <th>Pleural Effusion</th>\n      <td>51,680 (23.2%)</td>\n      <td>26,532.0 (11.9%)</td>\n      <td>5,184.0 (2.3%)</td>\n      <td>1,617 (0.7%)</td>\n    </tr>\n    <tr>\n      <th>Pleural Other</th>\n      <td>1,884 (0.8%)</td>\n      <td>120.0 (0.1%)</td>\n      <td>707.0 (0.3%)</td>\n      <td>91 (0.0%)</td>\n    </tr>\n    <tr>\n      <th>Pneumonia</th>\n      <td>15,333 (6.9%)</td>\n      <td>23,771.0 (10.7%)</td>\n      <td>17,313.0 (7.8%)</td>\n      <td>1,377 (0.6%)</td>\n    </tr>\n    <tr>\n      <th>Pneumothorax</th>\n      <td>9,159 (4.1%)</td>\n      <td>41,250.0 (18.5%)</td>\n      <td>848.0 (0.4%)</td>\n      <td>1,291 (0.6%)</td>\n    </tr>\n    <tr>\n      <th>Support Devices</th>\n      <td>63,971 (28.7%)</td>\n      <td>3,014.0 (1.4%)</td>\n      <td>95.0 (0.0%)</td>\n      <td>1,785 (0.8%)</td>\n    </tr>\n  </tbody>\n</table>\n</div>"
     },
     "execution_count": 9,
     "metadata": {},
     "output_type": "execute_result"
    }
   ],
   "source": [
    "nb = pd.read_csv(NEGIBOX_PATH)\n",
    "cx = pd.read_csv(CHEXPERT_PATH)\n",
    "\n",
    "# merge these findings to create a table\n",
    "# both agree -> output label\n",
    "# disagree -> output -9\n",
    "\n",
    "# drop subject_id from cx - we have it in nb\n",
    "df = nb.merge(\n",
    "    cx.drop('subject_id', axis=1),\n",
    "    how='left',\n",
    "    left_on='study_id', right_on='study_id',\n",
    "    suffixes=('', '_cx')\n",
    ")\n",
    "\n",
    "# subselect to training set\n",
    "study_ids = set(df_split.loc[df_split['split']=='train', 'study_id'])\n",
    "df = df.loc[df['study_id'].isin(study_ids)]\n",
    "\n",
    "# replace numeric labels with meaningful labels\n",
    "# also annotate disagreements between the two labelers\n",
    "labels = {0: 'Negative', 1: 'Positive', -1: 'Uncertain', -9: 'Disagreement'}\n",
    "for c in df.columns:\n",
    "    if c in ('subject_id', 'study_id'):\n",
    "        continue\n",
    "    elif c.endswith('_cx'):\n",
    "        continue\n",
    "    \n",
    "    # chexpert column\n",
    "    c_cx = f'{c}_cx'\n",
    "    \n",
    "    # annotate disagreement\n",
    "    for val in labels.keys():\n",
    "        if val == -9:\n",
    "            continue\n",
    "        \n",
    "        # check one is null and the other isn't\n",
    "        idx = df[c].isnull() & df[c_cx].notnull()\n",
    "        df.loc[idx, c] = -9\n",
    "        \n",
    "        idx = df[c].notnull() & df[c_cx].isnull()\n",
    "        df.loc[idx, c] = -9\n",
    "        \n",
    "        # check both non-null, but different value\n",
    "        idx = df[c].notnull() & df[c_cx].notnull() & (df[c] != df[c_cx])\n",
    "        df.loc[idx, c] = -9\n",
    "        \n",
    "    # now for those missing in negbio\n",
    "    idx = df[c].isnull() & df[f'{c}_cx'].notnull()\n",
    "    df.loc[idx, c] = -9\n",
    "    \n",
    "    df[c] = df[c].map(labels)\n",
    "    \n",
    "# drop chexpert columns\n",
    "cols_drop = [c for c in df.columns if c.endswith('_cx')]\n",
    "df.drop(cols_drop, axis=1, inplace=True)\n",
    "\n",
    "# display a few example cases\n",
    "# display(df.head(n=10))\n",
    "\n",
    "# create a summary table of the findings\n",
    "grp_cols = [c for c in df.columns if c not in ('subject_id', 'study_id')]\n",
    "tbl = {}\n",
    "for c in grp_cols:\n",
    "    tbl[c] = df[c].value_counts().to_dict()\n",
    "tbl = pd.DataFrame.from_dict(tbl, orient='index')\n",
    "\n",
    "\n",
    "# pretty format the labels\n",
    "N = df.shape[0]\n",
    "for c in tbl.columns:\n",
    "    tbl[c] = tbl[c].apply(lambda x: f'{x:,} ({100.0*x/N:3.1f}%)')\n",
    "\n",
    "# sort columns\n",
    "print(f'Frequency of labels in MIMIC-CXR-JPG on the training subset of {df.shape[0]:,} unique radiologic studies.')\n",
    "tbl = tbl[['Positive', 'Negative', 'Uncertain', 'Disagreement']]\n",
    "tbl.style.to_latex('findings_frequency.tex')\n",
    "tbl"
   ]
  },
  {
   "cell_type": "code",
   "execution_count": 10,
   "metadata": {
    "pycharm": {
     "name": "#%%\n"
    },
    "ExecuteTime": {
     "end_time": "2023-07-29T09:39:25.349262Z",
     "start_time": "2023-07-29T09:39:24.794823Z"
    }
   },
   "outputs": [
    {
     "data": {
      "text/plain": "                                  dicom_id    view  Pleural Effusion\nsplit    Pleural Effusion_mapped                                    \ntest     0                            2327    2327              2327\n         1                            1076    1076              1076\ntrain    0                          182839  182839            182839\n         1                           55123   55123             55123\nvalidate 0                            1461    1461              1461\n         1                             498     498               498",
      "text/html": "<div>\n<style scoped>\n    .dataframe tbody tr th:only-of-type {\n        vertical-align: middle;\n    }\n\n    .dataframe tbody tr th {\n        vertical-align: top;\n    }\n\n    .dataframe thead th {\n        text-align: right;\n    }\n</style>\n<table border=\"1\" class=\"dataframe\">\n  <thead>\n    <tr style=\"text-align: right;\">\n      <th></th>\n      <th></th>\n      <th>dicom_id</th>\n      <th>view</th>\n      <th>Pleural Effusion</th>\n    </tr>\n    <tr>\n      <th>split</th>\n      <th>Pleural Effusion_mapped</th>\n      <th></th>\n      <th></th>\n      <th></th>\n    </tr>\n  </thead>\n  <tbody>\n    <tr>\n      <th rowspan=\"2\" valign=\"top\">test</th>\n      <th>0</th>\n      <td>2327</td>\n      <td>2327</td>\n      <td>2327</td>\n    </tr>\n    <tr>\n      <th>1</th>\n      <td>1076</td>\n      <td>1076</td>\n      <td>1076</td>\n    </tr>\n    <tr>\n      <th rowspan=\"2\" valign=\"top\">train</th>\n      <th>0</th>\n      <td>182839</td>\n      <td>182839</td>\n      <td>182839</td>\n    </tr>\n    <tr>\n      <th>1</th>\n      <td>55123</td>\n      <td>55123</td>\n      <td>55123</td>\n    </tr>\n    <tr>\n      <th rowspan=\"2\" valign=\"top\">validate</th>\n      <th>0</th>\n      <td>1461</td>\n      <td>1461</td>\n      <td>1461</td>\n    </tr>\n    <tr>\n      <th>1</th>\n      <td>498</td>\n      <td>498</td>\n      <td>498</td>\n    </tr>\n  </tbody>\n</table>\n</div>"
     },
     "execution_count": 10,
     "metadata": {},
     "output_type": "execute_result"
    }
   ],
   "source": [
    "metadata_cols = ['dicom_id', 'subject_id', 'study_id', 'view']\n",
    "nb_cols = ['Pleural Effusion', 'subject_id', 'study_id']\n",
    "split_cols = ['dicom_id', 'split']\n",
    "\n",
    "df = df_metadata[metadata_cols]\\\n",
    "        .merge(nb[nb_cols], on=['subject_id', 'study_id'])\\\n",
    "        .drop(columns=['subject_id', 'study_id'])\\\n",
    "        .merge(df_split[split_cols], on='dicom_id')\n",
    "df = df[df.view == 'frontal']\n",
    "\n",
    "\n",
    "df['Pleural Effusion'] = df['Pleural Effusion'].fillna('na')\n",
    "mapper = {\n",
    "    -1   : 0,\n",
    "    'na' : 0,\n",
    "    0    : 0,\n",
    "    1    : 1\n",
    "}\n",
    "df['Pleural Effusion_mapped'] = df['Pleural Effusion'].map(mapper)\n",
    "\n",
    "\n",
    "df.groupby(['split', 'Pleural Effusion_mapped']).count()"
   ]
  }
 ],
 "metadata": {
  "kernelspec": {
   "display_name": "Python 3 (ipykernel)",
   "language": "python",
   "name": "python3"
  },
  "language_info": {
   "codemirror_mode": {
    "name": "ipython",
    "version": 3
   },
   "file_extension": ".py",
   "mimetype": "text/x-python",
   "name": "python",
   "nbconvert_exporter": "python",
   "pygments_lexer": "ipython3",
   "version": "3.9.15"
  }
 },
 "nbformat": 4,
 "nbformat_minor": 2
}
