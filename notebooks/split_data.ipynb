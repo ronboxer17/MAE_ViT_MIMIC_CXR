{
 "cells": [
  {
   "cell_type": "code",
   "execution_count": 1,
   "metadata": {},
   "outputs": [],
   "source": [
    "# import os\n",
    "# os.chdir('..')\n",
    "# os.getcwd()"
   ]
  },
  {
   "cell_type": "code",
   "execution_count": 1,
   "metadata": {
    "pycharm": {
     "name": "#%%\n"
    },
    "ExecuteTime": {
     "end_time": "2023-07-29T09:40:22.799236Z",
     "start_time": "2023-07-29T09:40:22.011098Z"
    }
   },
   "outputs": [],
   "source": [
    "import os \n",
    "import pandas as pd\n",
    "import numpy as np\n",
    "# from src.config import METADATA_PATH, SPLIT_PATH, NEGIBOX_PATH, CHEXPERT_PATH\n",
    "\n",
    "%load_ext autoreload\n",
    "%autoreload 2"
   ]
  },
  {
   "cell_type": "code",
   "execution_count": 15,
   "metadata": {
    "ExecuteTime": {
     "end_time": "2023-07-29T09:43:46.353696Z",
     "start_time": "2023-07-29T09:43:46.318891Z"
    }
   },
   "outputs": [],
   "source": [
    "from mae_mimic.config import METADATA_PATH, SPLIT_PATH, NEGIBOX_PATH, CHEXPERT_PATH, MIMIC_PATH"
   ]
  },
  {
   "cell_type": "code",
   "execution_count": 3,
   "metadata": {
    "pycharm": {
     "name": "#%%\n"
    },
    "ExecuteTime": {
     "end_time": "2023-07-29T09:40:24.430410Z",
     "start_time": "2023-07-29T09:40:23.010029Z"
    }
   },
   "outputs": [],
   "source": [
    "df_split = pd.read_csv(SPLIT_PATH)\n",
    "df_metadata = pd.read_csv(METADATA_PATH)"
   ]
  },
  {
   "cell_type": "code",
   "execution_count": 4,
   "metadata": {
    "pycharm": {
     "name": "#%%\n"
    },
    "ExecuteTime": {
     "end_time": "2023-07-29T09:40:25.431796Z",
     "start_time": "2023-07-29T09:40:25.377030Z"
    }
   },
   "outputs": [],
   "source": [
    "# initialize view with a mapping from ViewPosition\n",
    "VIEW_MAP = {\n",
    "    'AP': 'frontal',\n",
    "    'PA': 'frontal',\n",
    "    'LATERAL': 'lateral',\n",
    "    'LL': 'lateral',\n",
    "    'LPO': 'other',\n",
    "    'RAO': 'other',\n",
    "    'RPO': 'other',\n",
    "    'LAO': 'other',\n",
    "    # the below are overwritten in some instances by manual review\n",
    "    'AP AXIAL': 'other',\n",
    "    'XTABLE LATERAL': 'other',\n",
    "    'AP LLD': 'other',\n",
    "    'PA LLD': 'other',\n",
    "    'L5 S1': 'other',\n",
    "    'SWIMMERS': 'other',\n",
    "    'AP RLD': 'other',\n",
    "    'PA RLD': 'other',\n",
    "}\n",
    "df_metadata['view'] = df_metadata['ViewPosition'].map(VIEW_MAP)"
   ]
  },
  {
   "cell_type": "code",
   "execution_count": 5,
   "metadata": {
    "pycharm": {
     "name": "#%%\n"
    },
    "ExecuteTime": {
     "end_time": "2023-07-29T09:40:26.609459Z",
     "start_time": "2023-07-29T09:40:26.162423Z"
    }
   },
   "outputs": [],
   "source": [
    "nb = pd.read_csv(NEGIBOX_PATH)\n",
    "cx = pd.read_csv(CHEXPERT_PATH)"
   ]
  },
  {
   "cell_type": "code",
   "execution_count": 6,
   "metadata": {
    "pycharm": {
     "name": "#%%\n"
    },
    "ExecuteTime": {
     "end_time": "2023-07-29T09:40:27.523457Z",
     "start_time": "2023-07-29T09:40:27.062802Z"
    }
   },
   "outputs": [
    {
     "data": {
      "text/plain": "split\ntrain       0.977964\ntest        0.013985\nvalidate    0.008051\nName: proportion, dtype: float64"
     },
     "execution_count": 6,
     "metadata": {},
     "output_type": "execute_result"
    }
   ],
   "source": [
    "df_metadata[df_metadata['view'] == 'frontal'].merge(df_split, on='dicom_id')['split'].value_counts(dropna=False, normalize=True)"
   ]
  },
  {
   "cell_type": "code",
   "execution_count": 8,
   "metadata": {
    "pycharm": {
     "name": "#%%\n"
    },
    "ExecuteTime": {
     "end_time": "2023-07-29T09:40:30.086283Z",
     "start_time": "2023-07-29T09:40:30.044959Z"
    }
   },
   "outputs": [],
   "source": [
    "labels_cols = ['Atelectasis', 'Cardiomegaly',\n",
    "       'Consolidation', 'Edema', 'Enlarged Cardiomediastinum', 'Fracture',\n",
    "       'Lung Lesion', 'Lung Opacity',  'Pleural Effusion',\n",
    "       'Pleural Other', 'Pneumonia', 'Pneumothorax']"
   ]
  },
  {
   "cell_type": "code",
   "execution_count": 10,
   "metadata": {
    "ExecuteTime": {
     "end_time": "2023-07-29T09:40:31.660637Z",
     "start_time": "2023-07-29T09:40:31.628050Z"
    }
   },
   "outputs": [],
   "source": [
    "def is_finding(row: pd.core.series.Series):\n",
    "    return 1.0 in row.values "
   ]
  },
  {
   "cell_type": "code",
   "execution_count": 11,
   "metadata": {
    "ExecuteTime": {
     "end_time": "2023-07-29T09:41:48.596362Z",
     "start_time": "2023-07-29T09:40:32.079247Z"
    }
   },
   "outputs": [],
   "source": [
    "nb['findings'] = nb.apply(lambda row: is_finding(row[labels_cols]), axis=1)"
   ]
  },
  {
   "cell_type": "code",
   "execution_count": 12,
   "metadata": {
    "ExecuteTime": {
     "end_time": "2023-07-29T09:41:48.639533Z",
     "start_time": "2023-07-29T09:41:48.598621Z"
    }
   },
   "outputs": [],
   "source": [
    "number_of_findings = nb['findings'].sum()\n",
    "number_of_no_findings = len(nb[nb['No Finding']==1.0])"
   ]
  },
  {
   "cell_type": "code",
   "execution_count": 13,
   "metadata": {
    "ExecuteTime": {
     "end_time": "2023-07-29T09:41:49.282136Z",
     "start_time": "2023-07-29T09:41:48.635233Z"
    }
   },
   "outputs": [
    {
     "data": {
      "text/plain": "                   dicom_id\nsplit    findings          \ntest     False          801\n         True          2602\ntrain    False        96694\n         True        141268\nvalidate False          813\n         True          1146",
      "text/html": "<div>\n<style scoped>\n    .dataframe tbody tr th:only-of-type {\n        vertical-align: middle;\n    }\n\n    .dataframe tbody tr th {\n        vertical-align: top;\n    }\n\n    .dataframe thead th {\n        text-align: right;\n    }\n</style>\n<table border=\"1\" class=\"dataframe\">\n  <thead>\n    <tr style=\"text-align: right;\">\n      <th></th>\n      <th></th>\n      <th>dicom_id</th>\n    </tr>\n    <tr>\n      <th>split</th>\n      <th>findings</th>\n      <th></th>\n    </tr>\n  </thead>\n  <tbody>\n    <tr>\n      <th rowspan=\"2\" valign=\"top\">test</th>\n      <th>False</th>\n      <td>801</td>\n    </tr>\n    <tr>\n      <th>True</th>\n      <td>2602</td>\n    </tr>\n    <tr>\n      <th rowspan=\"2\" valign=\"top\">train</th>\n      <th>False</th>\n      <td>96694</td>\n    </tr>\n    <tr>\n      <th>True</th>\n      <td>141268</td>\n    </tr>\n    <tr>\n      <th rowspan=\"2\" valign=\"top\">validate</th>\n      <th>False</th>\n      <td>813</td>\n    </tr>\n    <tr>\n      <th>True</th>\n      <td>1146</td>\n    </tr>\n  </tbody>\n</table>\n</div>"
     },
     "execution_count": 13,
     "metadata": {},
     "output_type": "execute_result"
    }
   ],
   "source": [
    "metadata_cols = ['dicom_id', 'subject_id', 'study_id', 'view']\n",
    "nb_cols = labels_cols + ['subject_id', 'study_id', 'findings']\n",
    "split_cols = ['dicom_id', 'split']\n",
    "\n",
    "df = df_metadata[metadata_cols]\\\n",
    "        .merge(nb[nb_cols], on=['subject_id', 'study_id'])\\\n",
    "        .drop(columns=['subject_id', 'study_id'])\\\n",
    "        .merge(df_split[split_cols], on='dicom_id')\n",
    "df = df[df.view == 'frontal']\n",
    "\n",
    "\n",
    "df[['split', 'findings','dicom_id']].groupby(['split', 'findings']).count()#.apply(lambda x: x*100/x.sum())\n",
    "# ['dicom_id']"
   ]
  },
  {
   "cell_type": "code",
   "execution_count": 17,
   "metadata": {},
   "outputs": [],
   "source": [
    "# unmark to save the csv\n",
    "# df.to_csv(os.path.join(MIMIC_PATH, 'helpers/dicoms_with_labels_and_splits.csv'))"
   ]
  }
 ],
 "metadata": {
  "kernelspec": {
   "display_name": "Python 3 (ipykernel)",
   "language": "python",
   "name": "python3"
  },
  "language_info": {
   "codemirror_mode": {
    "name": "ipython",
    "version": 3
   },
   "file_extension": ".py",
   "mimetype": "text/x-python",
   "name": "python",
   "nbconvert_exporter": "python",
   "pygments_lexer": "ipython3",
   "version": "3.9.15"
  }
 },
 "nbformat": 4,
 "nbformat_minor": 1
}
